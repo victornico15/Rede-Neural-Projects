{
  "cells": [
    {
      "cell_type": "markdown",
      "metadata": {
        "id": "view-in-github",
        "colab_type": "text"
      },
      "source": [
        "<a href=\"https://colab.research.google.com/github/victornico15/Rede-Neural-Projects/blob/main/SpeechBrain%2BSpeechRecognition_.ipynb\" target=\"_parent\"><img src=\"https://colab.research.google.com/assets/colab-badge.svg\" alt=\"Open In Colab\"/></a>"
      ]
    },
    {
      "cell_type": "code",
      "execution_count": null,
      "metadata": {
        "id": "6dI4zL5ulP1b",
        "colab": {
          "base_uri": "https://localhost:8080/"
        },
        "outputId": "0cfdb603-54b3-48df-ee92-785b93986058"
      },
      "outputs": [
        {
          "output_type": "stream",
          "name": "stdout",
          "text": [
            "Looking in indexes: https://pypi.org/simple, https://us-python.pkg.dev/colab-wheels/public/simple/\n",
            "Requirement already satisfied: SpeechRecognition in /usr/local/lib/python3.7/dist-packages (3.8.1)\n",
            "Looking in indexes: https://pypi.org/simple, https://us-python.pkg.dev/colab-wheels/public/simple/\n",
            "Requirement already satisfied: pydub in /usr/local/lib/python3.7/dist-packages (0.25.1)\n",
            "Looking in indexes: https://pypi.org/simple, https://us-python.pkg.dev/colab-wheels/public/simple/\n",
            "Requirement already satisfied: speechbrain in /usr/local/lib/python3.7/dist-packages (0.5.11)\n",
            "Requirement already satisfied: sentencepiece in /usr/local/lib/python3.7/dist-packages (from speechbrain) (0.1.96)\n",
            "Requirement already satisfied: torchaudio in /usr/local/lib/python3.7/dist-packages (from speechbrain) (0.11.0+cu113)\n",
            "Requirement already satisfied: hyperpyyaml in /usr/local/lib/python3.7/dist-packages (from speechbrain) (1.0.1)\n",
            "Requirement already satisfied: huggingface-hub in /usr/local/lib/python3.7/dist-packages (from speechbrain) (0.7.0)\n",
            "Requirement already satisfied: joblib in /usr/local/lib/python3.7/dist-packages (from speechbrain) (1.1.0)\n",
            "Requirement already satisfied: torch<=1.11,>=1.7 in /usr/local/lib/python3.7/dist-packages (from speechbrain) (1.11.0+cu113)\n",
            "Requirement already satisfied: packaging in /usr/local/lib/python3.7/dist-packages (from speechbrain) (21.3)\n",
            "Requirement already satisfied: scipy in /usr/local/lib/python3.7/dist-packages (from speechbrain) (1.4.1)\n",
            "Requirement already satisfied: numpy in /usr/local/lib/python3.7/dist-packages (from speechbrain) (1.21.6)\n",
            "Requirement already satisfied: tqdm in /usr/local/lib/python3.7/dist-packages (from speechbrain) (4.64.0)\n",
            "Requirement already satisfied: typing-extensions in /usr/local/lib/python3.7/dist-packages (from torch<=1.11,>=1.7->speechbrain) (4.1.1)\n",
            "Requirement already satisfied: requests in /usr/local/lib/python3.7/dist-packages (from huggingface-hub->speechbrain) (2.23.0)\n",
            "Requirement already satisfied: importlib-metadata in /usr/local/lib/python3.7/dist-packages (from huggingface-hub->speechbrain) (4.11.4)\n",
            "Requirement already satisfied: filelock in /usr/local/lib/python3.7/dist-packages (from huggingface-hub->speechbrain) (3.7.1)\n",
            "Requirement already satisfied: pyyaml>=5.1 in /usr/local/lib/python3.7/dist-packages (from huggingface-hub->speechbrain) (6.0)\n",
            "Requirement already satisfied: pyparsing!=3.0.5,>=2.0.2 in /usr/local/lib/python3.7/dist-packages (from packaging->speechbrain) (3.0.9)\n",
            "Requirement already satisfied: ruamel.yaml>=0.17.8 in /usr/local/lib/python3.7/dist-packages (from hyperpyyaml->speechbrain) (0.17.21)\n",
            "Requirement already satisfied: ruamel.yaml.clib>=0.2.6 in /usr/local/lib/python3.7/dist-packages (from ruamel.yaml>=0.17.8->hyperpyyaml->speechbrain) (0.2.6)\n",
            "Requirement already satisfied: zipp>=0.5 in /usr/local/lib/python3.7/dist-packages (from importlib-metadata->huggingface-hub->speechbrain) (3.8.0)\n",
            "Requirement already satisfied: certifi>=2017.4.17 in /usr/local/lib/python3.7/dist-packages (from requests->huggingface-hub->speechbrain) (2022.6.15)\n",
            "Requirement already satisfied: idna<3,>=2.5 in /usr/local/lib/python3.7/dist-packages (from requests->huggingface-hub->speechbrain) (2.10)\n",
            "Requirement already satisfied: urllib3!=1.25.0,!=1.25.1,<1.26,>=1.21.1 in /usr/local/lib/python3.7/dist-packages (from requests->huggingface-hub->speechbrain) (1.24.3)\n",
            "Requirement already satisfied: chardet<4,>=3.0.2 in /usr/local/lib/python3.7/dist-packages (from requests->huggingface-hub->speechbrain) (3.0.4)\n"
          ]
        }
      ],
      "source": [
        "#INSTALAÇÃO DAS BIBLIOTECAS NECESSÁRIAS\n",
        "!pip install SpeechRecognition\n",
        "!pip install pydub\n",
        "!pip install speechbrain\n"
      ]
    },
    {
      "cell_type": "code",
      "execution_count": null,
      "metadata": {
        "id": "LfR33JHvmGT8"
      },
      "outputs": [],
      "source": [
        "#IMPORTAÇÃO DAS BIBLIOTECAS E SEUS PACOTES\n",
        "import speech_recognition as sr\n",
        "from pydub import AudioSegment\n",
        "from pydub.utils import make_chunks\n",
        "import matplotlib.pyplot as plt\n",
        "from wordcloud import WordCloud\n",
        "import numpy as np\n",
        "import matplotlib.pyplot as plt\n",
        "from IPython.display import Audio\n",
        "import librosa\n",
        "import librosa.display as ld\n",
        "import tensorflow as tensor\n",
        "import torchaudio\n",
        "from speechbrain.pretrained import EncoderClassifier\n",
        "from google.colab import files"
      ]
    },
    {
      "cell_type": "code",
      "execution_count": null,
      "metadata": {
        "id": "HzLROogpl7l0"
      },
      "outputs": [],
      "source": [
        "#FUNÇÃO QUE TRANSCREVE AUDIO P/ TEXTO\n",
        "def transcreve_audio(nome_audio):\n",
        "  # Selecione o audio para reconhecimento\n",
        "  r = sr.Recognizer()\n",
        "  with sr.AudioFile(nome_audio) as source:\n",
        "    audio = r.record(source)  # leitura do arquivo de audio\n",
        "\n",
        "  # Reconhecimento usando o Google Speech Recognition\n",
        "  try:\n",
        "    print('Google Speech Recognition: ' + r.recognize_google(audio,language='pt-BR'))\n",
        "    texto = r.recognize_google(audio,language='pt-BR')\n",
        "  except sr.UnknownValueError:\n",
        "    print('Google Speech Recognition NÃO ENTENDEU o audio')\n",
        "    texto = ''\n",
        "  except sr.RequestError as e:\n",
        "    print('Erro ao solicitar resultados do serviço Google Speech Recognition; {0}'.format(e))\n",
        "    texto = ''\n",
        "  return texto"
      ]
    },
    {
      "cell_type": "code",
      "execution_count": null,
      "metadata": {
        "colab": {
          "base_uri": "https://localhost:8080/",
          "height": 52
        },
        "id": "mbbH38EL1jvi",
        "outputId": "8241861a-45c3-43fa-d09d-66dce3775d5c"
      },
      "outputs": [
        {
          "output_type": "stream",
          "name": "stdout",
          "text": [
            "Google Speech Recognition: testando o áudio em português elefante borboleta morango\n"
          ]
        },
        {
          "output_type": "execute_result",
          "data": {
            "text/plain": [
              "'testando o áudio em português elefante borboleta morango'"
            ],
            "application/vnd.google.colaboratory.intrinsic+json": {
              "type": "string"
            }
          },
          "metadata": {},
          "execution_count": 24
        }
      ],
      "source": [
        "#CHAMADA DA FUNÇÃO\n",
        "transcreve_audio(\"audio_pt.wav\")"
      ]
    },
    {
      "cell_type": "code",
      "execution_count": null,
      "metadata": {
        "colab": {
          "base_uri": "https://localhost:8080/",
          "height": 351
        },
        "id": "m2L7aK0xmOq7",
        "outputId": "b0344df2-e36e-47e9-b64a-6fad27b42561"
      },
      "outputs": [
        {
          "output_type": "execute_result",
          "data": {
            "text/plain": [
              "<matplotlib.collections.PolyCollection at 0x7fa89ae3f890>"
            ]
          },
          "metadata": {},
          "execution_count": 25
        },
        {
          "output_type": "display_data",
          "data": {
            "text/plain": [
              "<Figure size 864x360 with 1 Axes>"
            ],
            "image/png": "[encoded data removed]"
          },
          "metadata": {
            "needs_background": "light"
          }
        }
      ],
      "source": [
        "#DADOS PARA GERAR O ESPECTOGRAMA E A GERAÇÃO DO MESMO\n",
        "data, fs = librosa.load(\"audio_en.wav\", sr=44100)\n",
        "Audio(data = data, rate = fs)\n",
        "D = librosa.amplitude_to_db(np.abs(librosa.stft(data)))\n",
        "plt.figure(figsize=(12, 5))\n",
        "ld.waveplot(data, sr=fs)"
      ]
    },
    {
      "cell_type": "code",
      "execution_count": null,
      "metadata": {
        "colab": {
          "base_uri": "https://localhost:8080/"
        },
        "id": "mNnQNVrx6_MC",
        "outputId": "98fccb0f-7323-4573-b76e-53f7bbaa535f"
      },
      "outputs": [
        {
          "output_type": "stream",
          "name": "stderr",
          "text": [
            "/usr/local/lib/python3.7/dist-packages/huggingface_hub/utils/_deprecation.py:43: FutureWarning: Pass library_name=False as keyword args. From version 0.8 passing these as positional arguments will result in an error\n",
            "  FutureWarning,\n"
          ]
        }
      ],
      "source": [
        "import torchaudio\n",
        "from speechbrain.pretrained import EncoderClassifier\n",
        "\n",
        "language_id = EncoderClassifier.from_hparams(source=\"TalTechNLP/voxlingua107-epaca-tdnn\", savedir=\"tmp\")"
      ]
    },
    {
      "cell_type": "code",
      "execution_count": null,
      "metadata": {
        "id": "2qiu_TOk7S-C",
        "colab": {
          "base_uri": "https://localhost:8080/"
        },
        "outputId": "8d8c9b6a-5b8e-4629-f81f-57818b8acbd1"
      },
      "outputs": [
        {
          "output_type": "stream",
          "name": "stdout",
          "text": [
            "(tensor([[0.3961, 0.4232, 0.3908, 0.4142, 0.4174, 0.4209, 0.3788, 0.5227, 0.5111,\n",
            "         0.4350, 0.3669, 0.4320, 0.4877, 0.3906, 0.3113, 0.4567, 0.3850, 0.4303,\n",
            "         0.4546, 0.4143, 0.4019, 0.4834, 0.3830, 0.3566, 0.3591, 0.4269, 0.3779,\n",
            "         0.4097, 0.4502, 0.3797, 0.4302, 0.3538, 0.3528, 0.3995, 0.4282, 0.3886,\n",
            "         0.4795, 0.4317, 0.4302, 0.4796, 0.3574, 0.3230, 0.4194, 0.3877, 0.4540,\n",
            "         0.3592, 0.3891, 0.4307, 0.4220, 0.3825, 0.3670, 0.3940, 0.4081, 0.4756,\n",
            "         0.4127, 0.3668, 0.4751, 0.4444, 0.4140, 0.4018, 0.4872, 0.3504, 0.3676,\n",
            "         0.3934, 0.3696, 0.4170, 0.3816, 0.3786, 0.4128, 0.4046, 0.3990, 0.4408,\n",
            "         0.3822, 0.5011, 0.4247, 0.8850, 0.4661, 0.4801, 0.3395, 0.3656, 0.4140,\n",
            "         0.3883, 0.4602, 0.4923, 0.4321, 0.3782, 0.4743, 0.4470, 0.3750, 0.3530,\n",
            "         0.4163, 0.3267, 0.3694, 0.4258, 0.3614, 0.4137, 0.3954, 0.4415, 0.4301,\n",
            "         0.4407, 0.4151, 0.3991, 0.3667, 0.3462, 0.4358, 0.4060, 0.3549]]), tensor([0.8850]), tensor([75]), ['pt'])\n"
          ]
        }
      ],
      "source": [
        "signal = language_id.load_audio(\"audio_pt.wav\")\n",
        "prediction =  language_id.classify_batch(signal)\n",
        "\n",
        "print(prediction)\n"
      ]
    },
    {
      "cell_type": "code",
      "execution_count": null,
      "metadata": {
        "colab": {
          "base_uri": "https://localhost:8080/"
        },
        "id": "PaaX1Nki75ll",
        "outputId": "5fb8a698-f79f-4b4a-f5e1-c5262cc6daf6"
      },
      "outputs": [
        {
          "output_type": "stream",
          "name": "stdout",
          "text": [
            "['pt']\n",
            "torch.Size([1, 1, 256])\n"
          ]
        }
      ],
      "source": [
        "print(prediction[3])\n",
        "emb =  language_id.encode_batch(signal)\n",
        "print(emb.shape)"
      ]
    }
  ],
  "metadata": {
    "colab": {
      "name": "SpeechBrain+SpeechRecognition .ipynb",
      "provenance": [],
      "include_colab_link": true
    },
    "kernelspec": {
      "display_name": "Python 3",
      "name": "python3"
    },
    "language_info": {
      "name": "python"
    }
  },
  "nbformat": 4,
  "nbformat_minor": 0
}